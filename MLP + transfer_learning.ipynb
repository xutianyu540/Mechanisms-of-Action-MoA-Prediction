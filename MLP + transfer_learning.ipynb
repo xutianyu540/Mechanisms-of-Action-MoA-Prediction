{
 "cells": [
  {
   "cell_type": "code",
   "execution_count": null,
   "metadata": {},
   "outputs": [],
   "source": [
    "#由于官方提供了不参与最终评价的目标数据，我们使用迁移学习来利用这些数据"
   ]
  },
  {
   "cell_type": "code",
   "execution_count": null,
   "metadata": {},
   "outputs": [],
   "source": [
    "import tensorflow as tf \n",
    "import tensorflow_addons as tfa\n",
    "import tensorflow.keras.layers as L\n",
    "import tensorflow.keras.backend as K"
   ]
  },
  {
   "cell_type": "code",
   "execution_count": null,
   "metadata": {},
   "outputs": [],
   "source": [
    "def build(shape=None,out_cols=206):\n",
    "    model = tf.keras.models.Sequential([\n",
    "                L.InputLayer(input_shape=shape),\n",
    "                L.BatchNormalization(),\n",
    "                L.Dropout(0.5),\n",
    "                tfa.layers.WeightNormalization(L.Dense(1500,kernel_initializer=\"he_normal\")),\n",
    "                \n",
    "                L.BatchNormalization(),\n",
    "                L.Activation(tf.nn.leaky_relu),\n",
    "                L.Dropout(0.3),\n",
    "                tfa.layers.WeightNormalization(L.Dense(1250,kernel_initializer=\"he_normal\")),\n",
    "                \n",
    "                L.BatchNormalization(),\n",
    "                L.Activation(tf.nn.leaky_relu),\n",
    "                L.Dropout(0.3),\n",
    "                tfa.layers.WeightNormalization(L.Dense(1000,kernel_initializer=\"he_normal\")),\n",
    "        \n",
    "                L.BatchNormalization(),\n",
    "                L.Activation(tf.nn.leaky_relu),\n",
    "                L.Dropout(0.25),\n",
    "                tfa.layers.WeightNormalization(L.Dense(750,kernel_initializer=\"he_normal\")),\n",
    "        \n",
    "                L.BatchNormalization(),\n",
    "                L.Activation(tf.nn.leaky_relu),\n",
    "                L.Dropout(0.25),\n",
    "                tfa.layers.WeightNormalization(L.Dense(out_cols,activation=\"sigmoid\",kernel_initializer=\"he_normal\"))\n",
    "            ])\n",
    "    model.compile(loss=tf.keras.losses.BinaryCrossentropy(label_smoothing=0.001)\n",
    "                  ,optimizer = tfa.optimizers.AdamW(lr=0.001,weight_decay=1e-4),\n",
    "                  metrics = [\"binary_crossentropy\"])\n",
    "    \n",
    "    return model\n",
    "\n",
    "def metric(y_true,y_predicted):\n",
    "\n",
    "    metrics=[]\n",
    "    for col in range(y_true.shape[1]):\n",
    "        metrics.append(log_loss(y_true[:,col],y_predicted[:,col],labels=[0,1]))\n",
    "\n",
    "    return np.mean(metrics)\n",
    "\n",
    "def transfer_weight(model_source,model_dest):\n",
    "    for i in range(len(model_source.layers[:-1])):\n",
    "        model_dest.layers[i].set_weights(model_source.layers[i].get_weights())\n",
    "    return model_dest"
   ]
  },
  {
   "cell_type": "code",
   "execution_count": null,
   "metadata": {},
   "outputs": [],
   "source": [
    "#将待评价目标与不评价目标一起放入训练\n",
    "train = train_features.merge(train_targets_scored, on='sig_id')\n",
    "train = train.merge(train_targets_nonscored, on='sig_id')"
   ]
  },
  {
   "cell_type": "code",
   "execution_count": null,
   "metadata": {},
   "outputs": [],
   "source": [
    "target_cols = [x for x in train_targets_scored.columns if x != 'sig_id']\n",
    "aux_target_cols = [x for x in train_targets_nonscored.columns if x != 'sig_id']\n",
    "all_target_cols = target_cols + aux_target_cols\n",
    "\n",
    "num_targets = len(target_cols)\n",
    "num_aux_targets = len(aux_target_cols)\n",
    "num_all_targets = len(all_target_cols)"
   ]
  },
  {
   "cell_type": "code",
   "execution_count": null,
   "metadata": {},
   "outputs": [],
   "source": [
    "X_train, X_val,Y_train,Y_val = train_test_split(train,train[all_target_cols],test_size=0.2,random_state=101)"
   ]
  },
  {
   "cell_type": "code",
   "execution_count": null,
   "metadata": {},
   "outputs": [],
   "source": [
    "model = build((X_train.shape[1],),num_all_targets)"
   ]
  },
  {
   "cell_type": "code",
   "execution_count": null,
   "metadata": {},
   "outputs": [],
   "source": [
    "save_weight = ModelCheckpoint('model.learned.hdf5',save_best_only=True,save_weights_only=False,monitor = 'val_loss',mode='min')\n",
    "reduce_lr_loss = ReduceLROnPlateau(monitor='val_loss', factor=0.1, patience=3, verbose=1, epsilon=1e-4, mode='min')\n",
    "early = EarlyStopping(monitor='val_loss',patience=5,mode='min')\n",
    "\n",
    "model.fit(X_train,Y_train,\n",
    "         epochs=50,\n",
    "         batch_size=128,\n",
    "         validation_data = (X_val,Y_val),\n",
    "         callbacks=[save_weight,reduce_lr_loss,early])\n",
    "\n",
    "model.load_weights('model.learned.hdf5')"
   ]
  },
  {
   "cell_type": "code",
   "execution_count": null,
   "metadata": {},
   "outputs": [],
   "source": [
    "mskf = MultilabelStratifiedKFold(n_splits = 7,shuffle=True)\n",
    "seeds = [42,58,132]\n",
    "histories = []\n",
    "scores = []\n",
    "\n",
    "for seed in seeds:\n",
    "    seedAll(seed_value=seed)\n",
    "    print(f\"Training seed {seed}\")\n",
    "    print('='*50)\n",
    "    \n",
    "    for idx,(tr_,val_) in enumerate(mskf.split(train,train_targets)):\n",
    "        print(f'\\nFold {idx}')\n",
    "        print('-'*50)\n",
    "        \n",
    "        K.clear_session()\n",
    "        X_train,X_val,Y_train,Y_val = train.iloc[tr_,:],train.iloc[val_,:],train[num_targets].iloc[tr_,:],train[num_targets].iloc[val_,:]\n",
    "        \n",
    "        path = f'model.{seed}_{idx}.hdf5'\n",
    "        save_weight = ModelCheckpoint(path,save_best_only=True,save_weights_only=False,monitor = 'val_loss',mode='min')\n",
    "        reduce_lr_loss = ReduceLROnPlateau(monitor='val_loss', factor=0.1, patience=3, verbose=1, epsilon=1e-4, mode='min')\n",
    "        early = EarlyStopping(monitor='val_loss',patience=5,mode='min')\n",
    "        \n",
    "        model_fin = build(shape=(X_train.shape[1],))\n",
    "        model_fin = transfer_weight(model,model_fin)\n",
    "        \n",
    "        for layer in model_fin.layers:\n",
    "            layer.trainable=True\n",
    "            \n",
    "        history = model_fin.fit(X_train.values,Y_train,\n",
    "                 batch_size=128,\n",
    "                 epochs=50,\n",
    "                 validation_data=(X_val,Y_val),\n",
    "                 callbacks=[early,save_weight,reduce_lr_loss]\n",
    "                 )\n",
    "        histories.append(history)\n",
    "        model_fin= tf.keras.models.load_model(path, custom_objects={'leaky_relu': tf.nn.leaky_relu})\n",
    "        \n",
    "        val_pred = model_fin.predict(X_val)\n",
    "        score = metric(Y_val.values,val_pred)\n",
    "        scores.append(score)\n",
    "        \n",
    "        print(f\"Validation Score: {score}\")\n",
    "        pred = model_fin.predict(test.values)\n",
    "        \n",
    "        ss.loc[:,train_targets.columns]+= pred"
   ]
  }
 ],
 "metadata": {
  "kernelspec": {
   "display_name": "Python 3",
   "language": "python",
   "name": "python3"
  },
  "language_info": {
   "codemirror_mode": {
    "name": "ipython",
    "version": 3
   },
   "file_extension": ".py",
   "mimetype": "text/x-python",
   "name": "python",
   "nbconvert_exporter": "python",
   "pygments_lexer": "ipython3",
   "version": "3.7.0"
  }
 },
 "nbformat": 4,
 "nbformat_minor": 4
}
